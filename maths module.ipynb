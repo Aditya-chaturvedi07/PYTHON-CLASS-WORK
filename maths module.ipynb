{
 "cells": [
  {
   "cell_type": "code",
   "execution_count": 5,
   "id": "d063fcd7-44d3-4421-b3b1-e60d85e0f4f7",
   "metadata": {},
   "outputs": [
    {
     "name": "stdout",
     "output_type": "stream",
     "text": [
      "13\n"
     ]
    }
   ],
   "source": [
    " # modules in python \n",
    "# . maths modules \n",
    "# . ceil function \n",
    "# provide the nearest value \n",
    "import math\n",
    "x = 12.3\n",
    "print(math.ceil(x)) # provide the nearest value 13 "
   ]
  },
  {
   "cell_type": "code",
   "execution_count": 7,
   "id": "7c67b6fe-da83-41fe-a1d1-e9b6f33c9eda",
   "metadata": {},
   "outputs": [
    {
     "name": "stdout",
     "output_type": "stream",
     "text": [
      "3.0\n"
     ]
    }
   ],
   "source": [
    "# fab function convert the negative value in postive value \n",
    "\n",
    "k = -3\n",
    "print(math.fabs(k))  # enter the negative value to return the positive value "
   ]
  },
  {
   "cell_type": "code",
   "execution_count": 8,
   "id": "aede438a-a553-4f13-b6f0-92afb8135270",
   "metadata": {},
   "outputs": [
    {
     "name": "stdout",
     "output_type": "stream",
     "text": [
      "120\n"
     ]
    }
   ],
   "source": [
    "# factorial use the factorial function to provide the factorial for given number \n",
    "a = 5\n",
    "print(math.factorial(a))  # value is 5 to print the factorials is 120 "
   ]
  },
  {
   "cell_type": "code",
   "execution_count": 10,
   "id": "88d975b9-39ba-4567-83e2-e77501b51bb1",
   "metadata": {},
   "outputs": [
    {
     "name": "stdout",
     "output_type": "stream",
     "text": [
      "12\n"
     ]
    }
   ],
   "source": [
    "\n",
    "# floor function to print the backword of the nearest value like 12.2 to print the 12 is use the floor function\n",
    "\n",
    "m = 12.2\n",
    "print(math.floor(m))     # print the 12"
   ]
  },
  {
   "cell_type": "code",
   "execution_count": 11,
   "id": "c2d1bbba-ab48-4199-b8eb-ed4a0d570b26",
   "metadata": {},
   "outputs": [
    {
     "name": "stdout",
     "output_type": "stream",
     "text": [
      "240.0\n"
     ]
    }
   ],
   "source": [
    "\n",
    "# fsum is the sum of the all list value but condations is all value is positive and use the tuple \n",
    "\n",
    "l = [10,20,30,40,50,90,]\n",
    "print(math.fsum(l))          # add the all list value "
   ]
  },
  {
   "cell_type": "code",
   "execution_count": 12,
   "id": "e9dce87f-ce69-4072-89c9-5e8cd6f63b08",
   "metadata": {},
   "outputs": [
    {
     "name": "stdout",
     "output_type": "stream",
     "text": [
      "4.0\n"
     ]
    }
   ],
   "source": [
    "# return the value square root like use 16 is square of 4 so print the 4\n",
    "u = 16\n",
    "print(math.sqrt(u))   # return the output 4 16 us sqrt of 4 "
   ]
  },
  {
   "cell_type": "code",
   "execution_count": null,
   "id": "8bce764c-e0ba-4f8b-bdb6-c6030a6994f7",
   "metadata": {},
   "outputs": [],
   "source": [
    "\n",
    "# date module in python \n"
   ]
  }
 ],
 "metadata": {
  "kernelspec": {
   "display_name": "Python 3 (ipykernel)",
   "language": "python",
   "name": "python3"
  },
  "language_info": {
   "codemirror_mode": {
    "name": "ipython",
    "version": 3
   },
   "file_extension": ".py",
   "mimetype": "text/x-python",
   "name": "python",
   "nbconvert_exporter": "python",
   "pygments_lexer": "ipython3",
   "version": "3.12.4"
  }
 },
 "nbformat": 4,
 "nbformat_minor": 5
}
